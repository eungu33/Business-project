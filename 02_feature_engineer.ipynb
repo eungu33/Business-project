{
 "cells": [
  {
   "cell_type": "code",
   "execution_count": 18,
   "id": "cd710921",
   "metadata": {},
   "outputs": [],
   "source": [
    "# [1] 모듈 로딩\n",
    "import pandas as pd\n",
    "import seaborn as sns\n",
    "import koreanize_matplotlib\n",
    "import matplotlib.pyplot as plt\n",
    "import numpy as np\n",
    "\n",
    "import holidays\n",
    "\n",
    "# 대한민국 공휴일 정의 (예: 2023년)\n",
    "kr_holidays = holidays.KR(years=[2024, 2025])  # 여러 해를 넣고 싶으면 [2023, 2024, 2025]처럼 리스트로"
   ]
  },
  {
   "cell_type": "code",
   "execution_count": null,
   "id": "d6ccc676",
   "metadata": {},
   "outputs": [],
   "source": [
    "# [1] 모듈 로딩\n",
    "import pandas as pd\n",
    "import numpy as np\n",
    "import seaborn as sns\n",
    "import koreanize_matplotlib\n",
    "import matplotlib.pyplot as plt\n",
    "import holidays\n",
    "\n",
    "# %% [2] 데이터 불러오기 및 리샘플링\n",
    "DATA = \"./result/processed.csv\"\n",
    "DF = pd.read_csv(DATA, encoding='utf-8-sig', parse_dates=['시각'])\n",
    "\n",
    "# datetime 처리\n",
    "DF['시각'] = pd.to_datetime(DF['시각'])\n",
    "DF.set_index('시각', inplace=True)\n",
    "\n",
    "# ✅ 유량 컬럼은 sum, 나머지는 mean으로 리샘플링\n",
    "sum_cols = [col for col in DF.columns if \"유량\" in col]\n",
    "mean_cols = [col for col in DF.columns if col not in sum_cols]\n",
    "\n",
    "agg_dict = {col: 'sum' for col in sum_cols}\n",
    "agg_dict.update({col: 'mean' for col in mean_cols})\n",
    "\n",
    "# 5분 단위 리샘플링\n",
    "DF = DF.resample('5min').agg(agg_dict)\n",
    "\n",
    "# 결측치 보간\n",
    "DF = DF.ffill().bfill()"
   ]
  },
  {
   "cell_type": "code",
   "execution_count": 21,
   "id": "e80d2d90",
   "metadata": {},
   "outputs": [
    {
     "data": {
      "text/html": [
       "<div>\n",
       "<style scoped>\n",
       "    .dataframe tbody tr th:only-of-type {\n",
       "        vertical-align: middle;\n",
       "    }\n",
       "\n",
       "    .dataframe tbody tr th {\n",
       "        vertical-align: top;\n",
       "    }\n",
       "\n",
       "    .dataframe thead th {\n",
       "        text-align: right;\n",
       "    }\n",
       "</style>\n",
       "<table border=\"1\" class=\"dataframe\">\n",
       "  <thead>\n",
       "    <tr style=\"text-align: right;\">\n",
       "      <th></th>\n",
       "      <th>기온</th>\n",
       "      <th>강수량</th>\n",
       "    </tr>\n",
       "    <tr>\n",
       "      <th>일시</th>\n",
       "      <th></th>\n",
       "      <th></th>\n",
       "    </tr>\n",
       "  </thead>\n",
       "  <tbody>\n",
       "    <tr>\n",
       "      <th>2024-09-25 00:00:00</th>\n",
       "      <td>17.6</td>\n",
       "      <td>0.0</td>\n",
       "    </tr>\n",
       "    <tr>\n",
       "      <th>2024-09-25 00:05:00</th>\n",
       "      <td>17.6</td>\n",
       "      <td>0.0</td>\n",
       "    </tr>\n",
       "    <tr>\n",
       "      <th>2024-09-25 00:10:00</th>\n",
       "      <td>17.6</td>\n",
       "      <td>0.0</td>\n",
       "    </tr>\n",
       "    <tr>\n",
       "      <th>2024-09-25 00:15:00</th>\n",
       "      <td>17.6</td>\n",
       "      <td>0.0</td>\n",
       "    </tr>\n",
       "    <tr>\n",
       "      <th>2024-09-25 00:20:00</th>\n",
       "      <td>17.6</td>\n",
       "      <td>0.0</td>\n",
       "    </tr>\n",
       "  </tbody>\n",
       "</table>\n",
       "</div>"
      ],
      "text/plain": [
       "                       기온  강수량\n",
       "일시                            \n",
       "2024-09-25 00:00:00  17.6  0.0\n",
       "2024-09-25 00:05:00  17.6  0.0\n",
       "2024-09-25 00:10:00  17.6  0.0\n",
       "2024-09-25 00:15:00  17.6  0.0\n",
       "2024-09-25 00:20:00  17.6  0.0"
      ]
     },
     "execution_count": 21,
     "metadata": {},
     "output_type": "execute_result"
    }
   ],
   "source": [
    "DATA_TEMP = './raw data/preprocessed_수원 기온 및 강수량_20240925_20250116.csv'\n",
    "\n",
    "# CSV 불러오기\n",
    "TEMP = pd.read_csv(\n",
    "    DATA_TEMP,\n",
    "    encoding='utf-8-sig',\n",
    "    parse_dates=['일시'],\n",
    "    usecols=lambda col: col not in ['Unnamed: 0', '지점', '지점명']\n",
    ")\n",
    "\n",
    "# datetime 설정\n",
    "TEMP['일시'] = pd.to_datetime(TEMP['일시'])\n",
    "TEMP.set_index('일시', inplace=True)\n",
    "\n",
    "# 컬럼명 통일\n",
    "TEMP.rename(columns={\n",
    "    '기온(°C)': '기온',\n",
    "    '강수량(mm)': '강수량'\n",
    "}, inplace=True)\n",
    "\n",
    "# 5분 단위 리샘플링: 기온 → 평균, 강수량 → 합계\n",
    "TEMP = TEMP.resample('5min').agg({\n",
    "    '기온': 'mean',\n",
    "    '강수량': 'sum'\n",
    "})\n",
    "\n",
    "# 결측치 보간\n",
    "TEMP = TEMP.ffill().bfill()\n",
    "\n",
    "# 확인\n",
    "TEMP.head()"
   ]
  },
  {
   "cell_type": "code",
   "execution_count": 22,
   "id": "aef39b96",
   "metadata": {},
   "outputs": [
    {
     "name": "stdout",
     "output_type": "stream",
     "text": [
      "Index(['D_배수지_유출유량2', 'D_배수지_유입유량1', 'D_배수지_유입유량2', 'D_배수지_유출유량1',\n",
      "       '나단계_D배수지_유입유량1', 'D_배수지_수위2', 'D_배수지_수위1', 'D_배수지_수위8', 'D_배수지_수위7',\n",
      "       'D_배수지_유출개도2', 'D_배수지_유입개도2', 'D_배수지_유출개도1', 'D_배수지_유입개도1',\n",
      "       'D_배수지_유입개도8', 'D_배수지_유입개도7', 'D_배수지_유입개도3', 'D_배수지_수위2_m3',\n",
      "       'D_배수지_수위1_m3', 'D_배수지_수위8_m3', 'D_배수지_수위7_m3'],\n",
      "      dtype='object')\n"
     ]
    }
   ],
   "source": [
    "print(DF.columns)"
   ]
  },
  {
   "cell_type": "code",
   "execution_count": 23,
   "id": "77a0bcf4",
   "metadata": {},
   "outputs": [
    {
     "name": "stdout",
     "output_type": "stream",
     "text": [
      "2024-09-25 00:00:00 2025-01-16 00:00:00\n",
      "2024-09-25 00:00:00 2025-01-16 23:00:00\n"
     ]
    }
   ],
   "source": [
    "print(DF.index.min(), DF.index.max())\n",
    "print(TEMP.index.min(), TEMP.index.max())"
   ]
  },
  {
   "cell_type": "code",
   "execution_count": null,
   "id": "5f0cd3a5",
   "metadata": {},
   "outputs": [],
   "source": [
    "# %% [병합 실행]\n",
    "# D_DF, D_TEMP는 이미 '시각' 또는 '일시'를 datetime 인덱스로 갖고 있음\n",
    "\n",
    "# 1. 인덱스를 기준으로 병합\n",
    "DF = DF.merge(TEMP, how='left', left_index=True, right_index=True)\n",
    "\n",
    "# 2. 결과 확인\n",
    "print(\"병합된 데이터프레임 크기:\", DF.shape)\n",
    "print(DF.columns)\n",
    "print(DF.index.min(), \"→\", DF.index.max())\n",
    "\n",
    "# # 3. 앞부분 미리보기\n",
    "# display(DF.head())\n",
    "\n",
    "# 4. 결측치 보간 (기온/강수량에서 생겼을 가능성 있음)\n",
    "DF = DF.ffill().bfill()"
   ]
  },
  {
   "cell_type": "code",
   "execution_count": 25,
   "id": "17014b99",
   "metadata": {},
   "outputs": [],
   "source": [
    "# plt.figure(figsize=(14, 4))\n",
    "# plt.plot(D_DF.index, D_DF['기온'], label='기온')\n",
    "# plt.plot(D_DF.index, D_DF['강수량'], label='강수량')\n",
    "# plt.legend()\n",
    "# plt.title('기온 및 강수량 시계열')\n",
    "# plt.xlabel('시간')\n",
    "# plt.xticks(rotation=45)\n",
    "# plt.grid(True)\n",
    "# plt.tight_layout()\n",
    "# plt.show()"
   ]
  },
  {
   "cell_type": "markdown",
   "id": "5512ec12",
   "metadata": {},
   "source": [
    "| 컬럼명  | 의미              | 값 범위         | 용도       | 예시        |\n",
    "| ---- | --------------- | ------------ | -------- | --------- |\n",
    "| `시간` | 시(hour)         | 0 \\~ 23      | 하루 주기 표현 | 새벽 3시 → 3 |\n",
    "| `요일` | 요일              | 0(월) \\~ 6(일) | 주간 주기 표현 | 금요일 → 4   |\n",
    "| `월`  | 월(month)        | 1 \\~ 12      | 계절성 반영   | 7월 → 7    |\n",
    "| `일`  | 일(day of month) | 1 \\~ 31      | 월간 주기 표현 | 15일 → 15  |\n"
   ]
  },
  {
   "cell_type": "code",
   "execution_count": 26,
   "id": "9b51da63",
   "metadata": {},
   "outputs": [],
   "source": [
    "# 시간 기반 파생 피처\n",
    "DF['시간'] = DF.index.hour\n",
    "DF['분'] = DF.index.minute\n",
    "DF['시간_float'] = DF['시간'] + DF['분'] / 60.0\n",
    "DF['요일'] = DF.index.weekday\n",
    "DF['월'] = DF.index.month\n",
    "DF['일'] = DF.index.day\n",
    "\n",
    "# 공휴일 리스트를 datetime64[ns] 타입으로 명시적으로 변환\n",
    "holiday_dates = pd.to_datetime(list(kr_holidays))\n",
    "DF['공휴일여부'] = DF.index.normalize().isin(holiday_dates).astype(int)\n",
    "\n",
    "# Fourier 변환 함수 정의\n",
    "def fourier_transform(series, period):\n",
    "    radians = 2 * np.pi * series / period\n",
    "    return np.sin(radians), np.cos(radians)\n",
    "\n",
    "# Fourier 변환 -> sin(2πx / period), cos(2πx / period)\n",
    "DF['시간_사인'], DF['시간_코사인'] = fourier_transform(DF['시간_float'], 24)\n",
    "DF['요일_사인'], DF['요일_코사인'] = fourier_transform(DF['요일'], 7)\n",
    "DF['일_사인'], DF['일_코사인'] = fourier_transform(DF['일'], 31)"
   ]
  },
  {
   "cell_type": "code",
   "execution_count": 27,
   "id": "aa2024d0",
   "metadata": {},
   "outputs": [
    {
     "data": {
      "image/png": "[encoded data removed]",
      "text/plain": [
       "<Figure size 1200x400 with 1 Axes>"
      ]
     },
     "metadata": {},
     "output_type": "display_data"
    }
   ],
   "source": [
    "plt.figure(figsize=(12, 4))\n",
    "plt.plot(DF.index[:144], DF['시간_float'][:144], label='시간_float')\n",
    "plt.plot(DF.index[:144], DF['시간'][:144], label='시간(int)')\n",
    "plt.legend()\n",
    "plt.title(\"float형 시간 vs 정수형 시간 (하루치)\")\n",
    "plt.xticks(rotation=45)\n",
    "plt.grid(alpha=0.3)\n",
    "plt.tight_layout()\n",
    "plt.show()"
   ]
  },
  {
   "cell_type": "code",
   "execution_count": 28,
   "id": "d5794a30",
   "metadata": {},
   "outputs": [
    {
     "data": {
      "text/plain": [
       "시각\n",
       "2025-01-15 22:25:00    22.416667\n",
       "2025-01-15 22:30:00    22.500000\n",
       "2025-01-15 22:35:00    22.583333\n",
       "2025-01-15 22:40:00    22.666667\n",
       "2025-01-15 22:45:00    22.750000\n",
       "2025-01-15 22:50:00    22.833333\n",
       "2025-01-15 22:55:00    22.916667\n",
       "2025-01-15 23:00:00    23.000000\n",
       "2025-01-15 23:05:00    23.083333\n",
       "2025-01-15 23:10:00    23.166667\n",
       "2025-01-15 23:15:00    23.250000\n",
       "2025-01-15 23:20:00    23.333333\n",
       "2025-01-15 23:25:00    23.416667\n",
       "2025-01-15 23:30:00    23.500000\n",
       "2025-01-15 23:35:00    23.583333\n",
       "2025-01-15 23:40:00    23.666667\n",
       "2025-01-15 23:45:00    23.750000\n",
       "2025-01-15 23:50:00    23.833333\n",
       "2025-01-15 23:55:00    23.916667\n",
       "2025-01-16 00:00:00     0.000000\n",
       "Freq: 5min, Name: 시간_float, dtype: float64"
      ]
     },
     "execution_count": 28,
     "metadata": {},
     "output_type": "execute_result"
    }
   ],
   "source": [
    "DF['시간_float'].head(20)\n",
    "DF['시간_float'].tail(20)"
   ]
  },
  {
   "cell_type": "markdown",
   "id": "a4aa9414",
   "metadata": {},
   "source": [
    "| 시각                  | 시간\\_float (대상값) | 의미                 |\n",
    "| ------------------- | --------------- | ------------------ |\n",
    "| 2024-09-25 00:00:00 | 0.000           | 하루의 시작             |\n",
    "| 2024-09-25 06:00:00 | 6.000           | 하루의 1/4 지점         |\n",
    "| 2024-09-25 12:00:00 | 12.000          | 하루의 중간             |\n",
    "| 2024-09-25 18:00:00 | 18.000          | 하루의 3/4 지점         |\n",
    "| 2024-09-25 23:55:00 | 23.917          | 하루 거의 끝, 24시간에 가까움 |\n"
   ]
  },
  {
   "cell_type": "code",
   "execution_count": 29,
   "id": "ea0c5f5d",
   "metadata": {},
   "outputs": [
    {
     "data": {
      "text/plain": [
       "시각\n",
       "2024-09-25 00:00:00    0.000000\n",
       "2024-09-25 00:05:00    0.021815\n",
       "2024-09-25 00:10:00    0.043619\n",
       "2024-09-25 00:15:00    0.065403\n",
       "2024-09-25 00:20:00    0.087156\n",
       "2024-09-25 00:25:00    0.108867\n",
       "2024-09-25 00:30:00    0.130526\n",
       "2024-09-25 00:35:00    0.152123\n",
       "2024-09-25 00:40:00    0.173648\n",
       "2024-09-25 00:45:00    0.195090\n",
       "2024-09-25 00:50:00    0.216440\n",
       "2024-09-25 00:55:00    0.237686\n",
       "2024-09-25 01:00:00    0.258819\n",
       "2024-09-25 01:05:00    0.279829\n",
       "2024-09-25 01:10:00    0.300706\n",
       "2024-09-25 01:15:00    0.321439\n",
       "2024-09-25 01:20:00    0.342020\n",
       "2024-09-25 01:25:00    0.362438\n",
       "2024-09-25 01:30:00    0.382683\n",
       "2024-09-25 01:35:00    0.402747\n",
       "Freq: 5min, Name: 시간_사인, dtype: float64"
      ]
     },
     "execution_count": 29,
     "metadata": {},
     "output_type": "execute_result"
    }
   ],
   "source": [
    "DF['시간_사인'].head(20)"
   ]
  },
  {
   "cell_type": "code",
   "execution_count": 30,
   "id": "b2846d15",
   "metadata": {},
   "outputs": [
    {
     "data": {
      "text/plain": [
       "시각\n",
       "2025-01-15 23:40:00    0.996195\n",
       "2025-01-15 23:45:00    0.997859\n",
       "2025-01-15 23:50:00    0.999048\n",
       "2025-01-15 23:55:00    0.999762\n",
       "2025-01-16 00:00:00    1.000000\n",
       "Freq: 5min, Name: 시간_코사인, dtype: float64"
      ]
     },
     "execution_count": 30,
     "metadata": {},
     "output_type": "execute_result"
    }
   ],
   "source": [
    "DF['시간_코사인'].tail()"
   ]
  },
  {
   "cell_type": "code",
   "execution_count": 31,
   "id": "7ce5f52c",
   "metadata": {},
   "outputs": [],
   "source": [
    "# ✅ Lag Feature 생성 함수: 과거 시점 값 그대로 복사 (누수 X)\n",
    "def add_lag_features(df, columns, lags=[1, 2, 3]):\n",
    "    result = {}\n",
    "    for col in columns:\n",
    "        for lag in lags:\n",
    "            # col의 t-lag 값을 현재 시점에 입력 피처로 사용 (예: 유입유량1_lag1 = t-1 시점 값)\n",
    "            result[f'{col}_lag{lag}'] = df[col].shift(lag)\n",
    "    return result\n",
    "\n",
    "\n",
    "# ✅ Diff Feature 생성 함수: 현재 시점 - 과거 시점 변화량 (누수 X)\n",
    "def add_diff_features(df, columns, periods=[1, 2, 3]):\n",
    "    result = {}\n",
    "    for col in columns:\n",
    "        for p in periods:\n",
    "            # col(t) - col(t-p): 변화량, 미래 정보 포함 X → 누수 없음\n",
    "            result[f'{col}_diff{p}'] = df[col].diff(p)\n",
    "    return result\n",
    "\n",
    "\n",
    "# ✅ Pct Change Feature 생성 함수: 현재와 과거 시점의 비율 변화량 (누수 X)\n",
    "def add_pct_change_features(df, columns, periods=[1, 2, 3]):\n",
    "    result = {}\n",
    "    for col in columns:\n",
    "        for p in periods:\n",
    "            # (col(t) - col(t-p)) / col(t-p): 비율 변화, 시점상 안전함\n",
    "            result[f'{col}_pct{p}'] = df[col].pct_change(p)\n",
    "    return result\n",
    "\n",
    "\n",
    "# ✅ Rolling Feature 생성 함수: 과거 window 길이만큼의 이동 평균 및 표준편차 (누수 X)\n",
    "def add_rolling_features(df, columns, windows=[2, 3, 6, 12, 24, 36], std_only_cols=None):\n",
    "    \"\"\"\n",
    "    windows: 각 윈도우 크기 (단위는 시계열 간격 기준, 예: 5분 간격이면 2 → 10분)\n",
    "    std_only_cols: 표준편차는 특정 컬럼에만 적용 (옵션)\n",
    "    \"\"\"\n",
    "    result = {}\n",
    "    for col in columns:\n",
    "        for w in windows:\n",
    "            # 이동 평균: t ~ t-w+1까지의 과거 값 평균 (현재 포함, 미래 X → 안전)\n",
    "            result[f'{col}_{w*5}분이동평균'] = df[col].rolling(window=w, min_periods=1).mean()\n",
    "\n",
    "            # 이동 표준편차: 마찬가지로 과거 window 기준으로만 계산 (누수 없음)\n",
    "            if std_only_cols and col in std_only_cols:\n",
    "                result[f'{col}_{w*5}분이동표준편차'] = df[col].rolling(window=w, min_periods=1).std()\n",
    "    return result\n"
   ]
  },
  {
   "cell_type": "code",
   "execution_count": 32,
   "id": "28e902dd",
   "metadata": {},
   "outputs": [
    {
     "data": {
      "text/html": [
       "<div>\n",
       "<style scoped>\n",
       "    .dataframe tbody tr th:only-of-type {\n",
       "        vertical-align: middle;\n",
       "    }\n",
       "\n",
       "    .dataframe tbody tr th {\n",
       "        vertical-align: top;\n",
       "    }\n",
       "\n",
       "    .dataframe thead th {\n",
       "        text-align: right;\n",
       "    }\n",
       "</style>\n",
       "<table border=\"1\" class=\"dataframe\">\n",
       "  <thead>\n",
       "    <tr style=\"text-align: right;\">\n",
       "      <th></th>\n",
       "      <th>D_배수지_유출유량1</th>\n",
       "      <th>D_배수지_유출유량2</th>\n",
       "    </tr>\n",
       "  </thead>\n",
       "  <tbody>\n",
       "    <tr>\n",
       "      <th>D_배수지_유출유량1</th>\n",
       "      <td>1.00000</td>\n",
       "      <td>0.91044</td>\n",
       "    </tr>\n",
       "    <tr>\n",
       "      <th>D_배수지_유출유량2</th>\n",
       "      <td>0.91044</td>\n",
       "      <td>1.00000</td>\n",
       "    </tr>\n",
       "  </tbody>\n",
       "</table>\n",
       "</div>"
      ],
      "text/plain": [
       "             D_배수지_유출유량1  D_배수지_유출유량2\n",
       "D_배수지_유출유량1      1.00000      0.91044\n",
       "D_배수지_유출유량2      0.91044      1.00000"
      ]
     },
     "execution_count": 32,
     "metadata": {},
     "output_type": "execute_result"
    }
   ],
   "source": [
    "#상관계수가 0.95 이상이면 거의 동일한 변수이므로, A_배수지_유출유량1을 모델에서 제거하거나 lag 변수로만 남기는 게 안전함\n",
    "# 유출유량1과 유출유량2 간 상관관계 확인\n",
    "DF[['D_배수지_유출유량1', 'D_배수지_유출유량2']].corr()"
   ]
  },
  {
   "cell_type": "markdown",
   "id": "864307fa",
   "metadata": {},
   "source": [
    "유출유량1 과 그에 연결된 수조 제외\n",
    "타겟 = 체적 -> 수위 컬럼 삭제"
   ]
  },
  {
   "cell_type": "markdown",
   "id": "00089370",
   "metadata": {},
   "source": [
    "<hr>\n",
    "<hr>\n",
    "<hr>"
   ]
  },
  {
   "cell_type": "markdown",
   "id": "d763a1db",
   "metadata": {},
   "source": [
    "타겟이 체적이기 떄문에 기존 % 단위 수위 제거"
   ]
  },
  {
   "cell_type": "markdown",
   "id": "06850a4b",
   "metadata": {},
   "source": [
    "유출유량1 , 수위1 m3, 수위2 m3"
   ]
  },
  {
   "cell_type": "code",
   "execution_count": 33,
   "id": "ae5d150a",
   "metadata": {},
   "outputs": [],
   "source": [
    "DF.drop(columns=['D_배수지_수위7', 'D_배수지_수위8', 'D_배수지_유출유량1', 'D_배수지_수위1', 'D_배수지_수위2', 'D_배수지_수위1_m3', 'D_배수지_수위2_m3'], inplace=True)"
   ]
  },
  {
   "cell_type": "markdown",
   "id": "2af39b1c",
   "metadata": {},
   "source": [
    "<hr>\n",
    "<hr>\n",
    "<hr>"
   ]
  },
  {
   "cell_type": "code",
   "execution_count": 34,
   "id": "f2054d43",
   "metadata": {},
   "outputs": [
    {
     "data": {
      "text/plain": [
       "Index(['D_배수지_유출유량2', 'D_배수지_유입유량1', 'D_배수지_유입유량2', '나단계_D배수지_유입유량1',\n",
       "       'D_배수지_유출개도2', 'D_배수지_유입개도2', 'D_배수지_유출개도1', 'D_배수지_유입개도1',\n",
       "       'D_배수지_유입개도8', 'D_배수지_유입개도7', 'D_배수지_유입개도3', 'D_배수지_수위8_m3',\n",
       "       'D_배수지_수위7_m3', '기온', '강수량', '시간', '분', '시간_float', '요일', '월', '일',\n",
       "       '공휴일여부', '시간_사인', '시간_코사인', '요일_사인', '요일_코사인', '일_사인', '일_코사인'],\n",
       "      dtype='object')"
      ]
     },
     "execution_count": 34,
     "metadata": {},
     "output_type": "execute_result"
    }
   ],
   "source": [
    "DF.columns"
   ]
  },
  {
   "cell_type": "markdown",
   "id": "835b0d80",
   "metadata": {},
   "source": [
    "**1. 수위 (level_columns)**  \n",
    "- 시계열적 변화가 핵심 → lag, diff, rolling mean + std 모두 필요\n",
    "\n",
    "- std는 흔들림(불안정성), diff는 변화율, rolling mean은 평형점 파악\n",
    "\n",
    "**2. 개도율 (valve_columns)**  \n",
    "- 제어 신호이기 때문에 값 자체가 바뀌는 지점이 중요\n",
    "\n",
    "- → diff, rolling mean은 의미 있지만, pct_change는 해석 의미 없음\n",
    "(개도율은 0~100% 고정값이라 비율 변화는 왜곡됨)\n",
    "  \n",
    "**3. 유입유량 (inflow_columns)**  \n",
    "- 유입량은 변화량 + 비율 변화 둘 다 중요\n",
    "- → 갑작스런 증가 = 사고, 점진적 상승 = 평시 수요 증가\n",
    "\n",
    "- pct_change 사용 매우 적절\n",
    "\n",
    "**4. 기온/강수량 (temp_columns)**  \n",
    "- 외부 환경 요인이므로, 변화 자체보다 \"기후 패턴\"이 중요\n",
    "\n",
    "- → rolling mean + std 중심  \n",
    "(특히 6~36 윈도우는 일간/주간 패턴 탐지)\n",
    "\n",
    "| 컬럼 그룹  | lag | diff | pct\\_change | rolling\\_mean | rolling\\_std   |\n",
    "| ------ | --- | ---- | ----------- | ------------- | -------------- |\n",
    "| 수위     | ✅   | ✅    | ❌           | ✅             | ✅              |\n",
    "| 개도율    | ✅   | ✅    | ❌           | ✅             | ❌ (제어라서 무의미)   |\n",
    "| 유입유량   | ✅   | ✅    | ✅           | ✅             | ❌ (이미 pct 반영됨) |\n",
    "| 기온/강수량 | ✅   | ❌    | ❌           | ✅ (중심)        | ✅ (변동성 중요)     |"
   ]
  },
  {
   "cell_type": "code",
   "execution_count": 35,
   "id": "0aded7e7",
   "metadata": {},
   "outputs": [
    {
     "name": "stdout",
     "output_type": "stream",
     "text": [
      "✅ 전체 파생 피처 생성 완료. shape: (32545, 110)\n"
     ]
    }
   ],
   "source": [
    "# %% [컬럼 그룹]\n",
    "level_columns = [col for col in DF.columns if '수위' in col]\n",
    "inflow_columns = [col for col in DF.columns if '유량' in col]\n",
    "temp_columns = ['기온','강수량']\n",
    "\n",
    "# %% [적용]\n",
    "feature_dict = {}\n",
    "\n",
    "# 1. 체적 → lag, diff, rolling mean + std\n",
    "feature_dict.update(add_lag_features(DF, level_columns))\n",
    "feature_dict.update(add_diff_features(DF, level_columns))\n",
    "feature_dict.update(add_rolling_features(DF, level_columns, windows=[2, 3], std_only_cols=level_columns))\n",
    "\n",
    "# 3. 유입유량 → lag, diff, pct, rolling mean\n",
    "feature_dict.update(add_lag_features(DF, inflow_columns))\n",
    "feature_dict.update(add_diff_features(DF, inflow_columns))\n",
    "feature_dict.update(add_pct_change_features(DF, inflow_columns))\n",
    "feature_dict.update(add_rolling_features(DF, inflow_columns, windows=[2, 3]))\n",
    "\n",
    "# 강수량: lag + rolling mean + std\n",
    "feature_dict.update(add_lag_features(DF, temp_columns))\n",
    "feature_dict.update(add_rolling_features(DF, temp_columns, windows=[2, 3, 6, 12, 24, 36]))\n",
    "\n",
    "# %% [결합]\n",
    "DF = pd.concat([DF, pd.DataFrame(feature_dict, index=DF.index)], axis=1)\n",
    "\n",
    "print(\"✅ 전체 파생 피처 생성 완료. shape:\", DF.shape)"
   ]
  },
  {
   "cell_type": "code",
   "execution_count": 36,
   "id": "ed4168f2",
   "metadata": {},
   "outputs": [
    {
     "name": "stdout",
     "output_type": "stream",
     "text": [
      "전체 NaN 개수: 385\n",
      "Inf 값 개수: 57\n",
      "매우 큰 값 개수 (>1e+10): 57\n"
     ]
    }
   ],
   "source": [
    "import numpy as np\n",
    "\n",
    "# 전체 NaN 개수 확인\n",
    "print(\"전체 NaN 개수:\", DF.isna().sum().sum())\n",
    "\n",
    "# Inf가 포함된 셀 개수\n",
    "print(\"Inf 값 개수:\", np.isinf(DF).sum().sum())\n",
    "\n",
    "# 너무 큰 값 확인 (예: 1e+10 이상)\n",
    "print(\"매우 큰 값 개수 (>1e+10):\", (DF > 1e10).sum().sum())\n"
   ]
  },
  {
   "cell_type": "code",
   "execution_count": 37,
   "id": "3e533d8c",
   "metadata": {},
   "outputs": [
    {
     "name": "stdout",
     "output_type": "stream",
     "text": [
      "NaN 포함 컬럼 수: 58\n",
      "NaN 포함 컬럼 목록: ['D_배수지_수위8_m3_lag1', 'D_배수지_수위8_m3_lag2', 'D_배수지_수위8_m3_lag3', 'D_배수지_수위7_m3_lag1', 'D_배수지_수위7_m3_lag2', 'D_배수지_수위7_m3_lag3', 'D_배수지_수위8_m3_diff1', 'D_배수지_수위8_m3_diff2', 'D_배수지_수위8_m3_diff3', 'D_배수지_수위7_m3_diff1', 'D_배수지_수위7_m3_diff2', 'D_배수지_수위7_m3_diff3', 'D_배수지_수위8_m3_10분이동표준편차', 'D_배수지_수위8_m3_15분이동표준편차', 'D_배수지_수위7_m3_10분이동표준편차', 'D_배수지_수위7_m3_15분이동표준편차', 'D_배수지_유출유량2_lag1', 'D_배수지_유출유량2_lag2', 'D_배수지_유출유량2_lag3', 'D_배수지_유입유량1_lag1', 'D_배수지_유입유량1_lag2', 'D_배수지_유입유량1_lag3', 'D_배수지_유입유량2_lag1', 'D_배수지_유입유량2_lag2', 'D_배수지_유입유량2_lag3', '나단계_D배수지_유입유량1_lag1', '나단계_D배수지_유입유량1_lag2', '나단계_D배수지_유입유량1_lag3', 'D_배수지_유출유량2_diff1', 'D_배수지_유출유량2_diff2', 'D_배수지_유출유량2_diff3', 'D_배수지_유입유량1_diff1', 'D_배수지_유입유량1_diff2', 'D_배수지_유입유량1_diff3', 'D_배수지_유입유량2_diff1', 'D_배수지_유입유량2_diff2', 'D_배수지_유입유량2_diff3', '나단계_D배수지_유입유량1_diff1', '나단계_D배수지_유입유량1_diff2', '나단계_D배수지_유입유량1_diff3', 'D_배수지_유출유량2_pct1', 'D_배수지_유출유량2_pct2', 'D_배수지_유출유량2_pct3', 'D_배수지_유입유량1_pct1', 'D_배수지_유입유량1_pct2', 'D_배수지_유입유량1_pct3', 'D_배수지_유입유량2_pct1', 'D_배수지_유입유량2_pct2', 'D_배수지_유입유량2_pct3', '나단계_D배수지_유입유량1_pct1', '나단계_D배수지_유입유량1_pct2', '나단계_D배수지_유입유량1_pct3', '기온_lag1', '기온_lag2', '기온_lag3', '강수량_lag1', '강수량_lag2', '강수량_lag3']\n",
      "Inf 포함 컬럼 수: 6\n",
      "Inf 포함 컬럼 목록: ['D_배수지_유입유량2_pct1', 'D_배수지_유입유량2_pct2', 'D_배수지_유입유량2_pct3', '나단계_D배수지_유입유량1_pct1', '나단계_D배수지_유입유량1_pct2', '나단계_D배수지_유입유량1_pct3']\n"
     ]
    }
   ],
   "source": [
    "# NaN이 있는 컬럼 확인\n",
    "nan_cols = DF.columns[DF.isna().any()]\n",
    "print(\"NaN 포함 컬럼 수:\", len(nan_cols))\n",
    "print(\"NaN 포함 컬럼 목록:\", list(nan_cols))\n",
    "\n",
    "# Inf가 있는 컬럼 확인\n",
    "inf_cols = DF.columns[np.isinf(DF).any()]\n",
    "print(\"Inf 포함 컬럼 수:\", len(inf_cols))\n",
    "print(\"Inf 포함 컬럼 목록:\", list(inf_cols))"
   ]
  },
  {
   "cell_type": "code",
   "execution_count": 38,
   "id": "296ed34a",
   "metadata": {},
   "outputs": [],
   "source": [
    "# inf 값은 NaN으로 바꾸고\n",
    "DF.replace([np.inf, -np.inf], np.nan, inplace=True)\n",
    "\n",
    "# 결측값은 bfill → ffill 순으로 처리\n",
    "DF = DF.bfill().ffill()"
   ]
  },
  {
   "cell_type": "code",
   "execution_count": 39,
   "id": "c8bd1263",
   "metadata": {},
   "outputs": [
    {
     "name": "stdout",
     "output_type": "stream",
     "text": [
      "전체 NaN 개수: 0\n",
      "Inf 값 개수: 0\n",
      "매우 큰 값 개수 (>1e+10): 0\n"
     ]
    }
   ],
   "source": [
    "# 전체 NaN 개수 확인\n",
    "print(\"전체 NaN 개수:\", DF.isna().sum().sum())\n",
    "\n",
    "# Inf가 포함된 셀 개수\n",
    "print(\"Inf 값 개수:\", np.isinf(DF).sum().sum())\n",
    "\n",
    "# 너무 큰 값 확인 (예: 1e+10 이상)\n",
    "print(\"매우 큰 값 개수 (>1e+10):\", (DF > 1e10).sum().sum())\n"
   ]
  },
  {
   "cell_type": "code",
   "execution_count": 40,
   "id": "691876da",
   "metadata": {},
   "outputs": [
    {
     "name": "stdout",
     "output_type": "stream",
     "text": [
      "✅ 5분 리샘플링 이후 파생 피처 저장 완료: ./result\\features.csv\n"
     ]
    }
   ],
   "source": [
    "import os\n",
    "\n",
    "# 저장할 폴더 경로\n",
    "save_dir = \"./result\"\n",
    "\n",
    "# 폴더가 없으면 자동 생성\n",
    "os.makedirs(save_dir, exist_ok=True)\n",
    "\n",
    "# 전체 저장 경로 구성\n",
    "save_path = os.path.join(save_dir, \"features.csv\")\n",
    "\n",
    "# 저장\n",
    "DF.to_csv(save_path, index=True, encoding='utf-8-sig')\n",
    "print(f\"✅ 5분 리샘플링 이후 파생 피처 저장 완료: {save_path}\")"
   ]
  },
  {
   "cell_type": "code",
   "execution_count": 41,
   "id": "ee78c480",
   "metadata": {},
   "outputs": [
    {
     "name": "stdout",
     "output_type": "stream",
     "text": [
      "110\n",
      "▶️ Lag Features (24개):\n",
      "D_배수지_수위8_m3_lag1\n",
      "D_배수지_수위8_m3_lag2\n",
      "D_배수지_수위8_m3_lag3\n",
      "D_배수지_수위7_m3_lag1\n",
      "D_배수지_수위7_m3_lag2\n",
      "D_배수지_수위7_m3_lag3\n",
      "D_배수지_유출유량2_lag1\n",
      "D_배수지_유출유량2_lag2\n",
      "D_배수지_유출유량2_lag3\n",
      "D_배수지_유입유량1_lag1\n",
      "D_배수지_유입유량1_lag2\n",
      "D_배수지_유입유량1_lag3\n",
      "D_배수지_유입유량2_lag1\n",
      "D_배수지_유입유량2_lag2\n",
      "D_배수지_유입유량2_lag3\n",
      "나단계_D배수지_유입유량1_lag1\n",
      "나단계_D배수지_유입유량1_lag2\n",
      "나단계_D배수지_유입유량1_lag3\n",
      "기온_lag1\n",
      "기온_lag2\n",
      "기온_lag3\n",
      "강수량_lag1\n",
      "강수량_lag2\n",
      "강수량_lag3\n",
      "\n",
      "▶️ Diff Features (18개):\n",
      "D_배수지_수위8_m3_diff1\n",
      "D_배수지_수위8_m3_diff2\n",
      "D_배수지_수위8_m3_diff3\n",
      "D_배수지_수위7_m3_diff1\n",
      "D_배수지_수위7_m3_diff2\n",
      "D_배수지_수위7_m3_diff3\n",
      "D_배수지_유출유량2_diff1\n",
      "D_배수지_유출유량2_diff2\n",
      "D_배수지_유출유량2_diff3\n",
      "D_배수지_유입유량1_diff1\n",
      "D_배수지_유입유량1_diff2\n",
      "D_배수지_유입유량1_diff3\n",
      "D_배수지_유입유량2_diff1\n",
      "D_배수지_유입유량2_diff2\n",
      "D_배수지_유입유량2_diff3\n",
      "나단계_D배수지_유입유량1_diff1\n",
      "나단계_D배수지_유입유량1_diff2\n",
      "나단계_D배수지_유입유량1_diff3\n",
      "\n",
      "▶️ Percent Change Features (12개):\n",
      "D_배수지_유출유량2_pct1\n",
      "D_배수지_유출유량2_pct2\n",
      "D_배수지_유출유량2_pct3\n",
      "D_배수지_유입유량1_pct1\n",
      "D_배수지_유입유량1_pct2\n",
      "D_배수지_유입유량1_pct3\n",
      "D_배수지_유입유량2_pct1\n",
      "D_배수지_유입유량2_pct2\n",
      "D_배수지_유입유량2_pct3\n",
      "나단계_D배수지_유입유량1_pct1\n",
      "나단계_D배수지_유입유량1_pct2\n",
      "나단계_D배수지_유입유량1_pct3\n",
      "\n",
      "▶️ Rolling Features (28개):\n",
      "D_배수지_수위8_m3_10분이동평균\n",
      "D_배수지_수위8_m3_10분이동표준편차\n",
      "D_배수지_수위8_m3_15분이동평균\n",
      "D_배수지_수위8_m3_15분이동표준편차\n",
      "D_배수지_수위7_m3_10분이동평균\n",
      "D_배수지_수위7_m3_10분이동표준편차\n",
      "D_배수지_수위7_m3_15분이동평균\n",
      "D_배수지_수위7_m3_15분이동표준편차\n",
      "D_배수지_유출유량2_10분이동평균\n",
      "D_배수지_유출유량2_15분이동평균\n",
      "D_배수지_유입유량1_10분이동평균\n",
      "D_배수지_유입유량1_15분이동평균\n",
      "D_배수지_유입유량2_10분이동평균\n",
      "D_배수지_유입유량2_15분이동평균\n",
      "나단계_D배수지_유입유량1_10분이동평균\n",
      "나단계_D배수지_유입유량1_15분이동평균\n",
      "기온_10분이동평균\n",
      "기온_15분이동평균\n",
      "기온_30분이동평균\n",
      "기온_60분이동평균\n",
      "기온_120분이동평균\n",
      "기온_180분이동평균\n",
      "강수량_10분이동평균\n",
      "강수량_15분이동평균\n",
      "강수량_30분이동평균\n",
      "강수량_60분이동평균\n",
      "강수량_120분이동평균\n",
      "강수량_180분이동평균\n",
      "\n",
      "▶️ Fourier Features (6개):\n",
      "시간_사인\n",
      "시간_코사인\n",
      "요일_사인\n",
      "요일_코사인\n",
      "일_사인\n",
      "일_코사인\n"
     ]
    }
   ],
   "source": [
    "print(len(DF.columns))\n",
    "# lag feature만 보기\n",
    "lag_features = [col for col in DF.columns if '_lag' in col]\n",
    "print(f\"▶️ Lag Features ({len(lag_features)}개):\")\n",
    "print(\"\\n\".join(lag_features))\n",
    "\n",
    "# diff feature만 보기\n",
    "diff_features = [col for col in DF.columns if '_diff' in col]\n",
    "print(f\"\\n▶️ Diff Features ({len(diff_features)}개):\")\n",
    "print(\"\\n\".join(diff_features))\n",
    "\n",
    "# pct_change feature만 보기\n",
    "pct_features = [col for col in DF.columns if '_pct' in col]\n",
    "print(f\"\\n▶️ Percent Change Features ({len(pct_features)}개):\")\n",
    "print(\"\\n\".join(pct_features))\n",
    "\n",
    "# rolling 평균 및 표준편차\n",
    "rolling_features = [col for col in DF.columns if '이동' in col]\n",
    "print(f\"\\n▶️ Rolling Features ({len(rolling_features)}개):\")\n",
    "print(\"\\n\".join(rolling_features))\n",
    "\n",
    "# Fourier 시간 기반 피처\n",
    "fourier_features = [col for col in DF.columns if '사인' in col or '코사인' in col]\n",
    "print(f\"\\n▶️ Fourier Features ({len(fourier_features)}개):\")\n",
    "print(\"\\n\".join(fourier_features))"
   ]
  }
 ],
 "metadata": {
  "kernelspec": {
   "display_name": "water_ai",
   "language": "python",
   "name": "python3"
  },
  "language_info": {
   "codemirror_mode": {
    "name": "ipython",
    "version": 3
   },
   "file_extension": ".py",
   "mimetype": "text/x-python",
   "name": "python",
   "nbconvert_exporter": "python",
   "pygments_lexer": "ipython3",
   "version": "3.10.16"
  }
 },
 "nbformat": 4,
 "nbformat_minor": 5
}
